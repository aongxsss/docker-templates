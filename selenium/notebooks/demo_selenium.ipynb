{
 "cells": [
  {
   "cell_type": "code",
   "execution_count": 4,
   "id": "a3bd3f8a-d8e0-482a-bfda-47470d2bb31a",
   "metadata": {
    "scrolled": true
   },
   "outputs": [
    {
     "name": "stdout",
     "output_type": "stream",
     "text": [
      "{'value': {'ready': True, 'message': 'Selenium Grid ready.', 'nodes': [{'id': '7bb9e419-c0e1-4de0-85b4-6aacca47182a', 'uri': 'http://172.21.0.2:4444', 'maxSessions': 1, 'sessionTimeout': 300000, 'osInfo': {'arch': 'amd64', 'name': 'Linux', 'version': '5.15.153.1-microsoft-standard-WSL2'}, 'heartbeatPeriod': 30000, 'availability': 'UP', 'version': '4.27.0 (revision d6e718d)', 'slots': [{'id': {'hostId': '7bb9e419-c0e1-4de0-85b4-6aacca47182a', 'id': '6534ca4f-53ee-431b-a1fa-380a5cea2e06'}, 'lastStarted': '2024-12-24T16:11:52.014555150Z', 'session': None, 'stereotype': {'browserName': 'chrome', 'browserVersion': '131.0', 'goog:chromeOptions': {'binary': '/usr/bin/google-chrome'}, 'platformName': 'linux', 'se:containerName': '', 'se:noVncPort': 7900, 'se:vncEnabled': True}}]}]}}\n"
     ]
    }
   ],
   "source": [
    "response = requests.get(\"http://selenium:4444/status\")\n",
    "print(response.json())"
   ]
  },
  {
   "cell_type": "code",
   "execution_count": 8,
   "id": "66b63b5a-a2f7-46f4-9bee-793471d4942a",
   "metadata": {},
   "outputs": [
    {
     "name": "stdout",
     "output_type": "stream",
     "text": [
      "Page title: บ้านผลบอล ทีเด็ดบอลวันนี้ 7m baanpolball ผลบอลเมื่อคืนนี้ zeanstep สปอร์ตพูล Goal.co\n"
     ]
    }
   ],
   "source": [
    "from selenium import webdriver\n",
    "from selenium.webdriver.common.by import By\n",
    "from selenium.webdriver.common.keys import Keys\n",
    "\n",
    "# Configure WebDriver options\n",
    "options = webdriver.ChromeOptions()\n",
    "options.add_argument(\"--headless\")\n",
    "options.add_argument(\"--disable-gpu\")  # Optional for Docker\n",
    "options.add_argument(\"--no-sandbox\")  # Optional for Docker\n",
    "options.add_argument(\"--disable-dev-shm-usage\")  # Optional for Docker\n",
    "\n",
    "# Connect to the Selenium Grid server\n",
    "driver = webdriver.Remote(\n",
    "    command_executor=\"http://selenium:4444/wd/hub\",\n",
    "    options=options\n",
    ")\n",
    "\n",
    "# Interact with the browser\n",
    "driver.get(\"https://goal3.co/\")\n",
    "print(\"Page title:\", driver.title)\n",
    "\n",
    "driver.quit()\n"
   ]
  }
 ],
 "metadata": {
  "kernelspec": {
   "display_name": "Python 3 (ipykernel)",
   "language": "python",
   "name": "python3"
  },
  "language_info": {
   "codemirror_mode": {
    "name": "ipython",
    "version": 3
   },
   "file_extension": ".py",
   "mimetype": "text/x-python",
   "name": "python",
   "nbconvert_exporter": "python",
   "pygments_lexer": "ipython3",
   "version": "3.11.6"
  }
 },
 "nbformat": 4,
 "nbformat_minor": 5
}
